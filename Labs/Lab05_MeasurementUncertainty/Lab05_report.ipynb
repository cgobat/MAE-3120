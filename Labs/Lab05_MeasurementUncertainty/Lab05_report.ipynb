{
 "cells": [
  {
   "cell_type": "markdown",
   "source": "# Lab 5: Measurement Uncertainty\n### MAE 3120, Spring 2022\n\n**Jade Greenberg & Caden Gobat**\n\n**Background:** Very few (if any) observations or measurements can be known and reported with absolute certainty. Because of this, understanding and describing the uncertainties that are inherent to our measurements is an integral part of working with experimental data. At its core, reporting an uncertainty value is a statement of probability. Stating an error of $\\pm u$ is a claim (with some percent certainty, which varies based on the desired confidence level) that the true value falls within $u$ of what was measured. In this lab, we assess and analyze several different sources of uncertainty in the measurement of the resistance value of a resistor with a nominal value of $22\\ \\Omega$.",
   "metadata": {
    "tags": [],
    "cell_id": "c322b57e-bb88-4605-8efb-bc9eb617c356",
    "deepnote_cell_type": "markdown",
    "deepnote_cell_height": 294
   }
  },
  {
   "cell_type": "code",
   "metadata": {
    "deepnote_to_be_reexecuted": false,
    "execution_millis": 2738,
    "execution_start": 1647141247504,
    "source_hash": "b4a1e37e",
    "tags": [],
    "cell_id": "00001-f919a960-37e2-43a6-a072-45b3a67ebd8a",
    "deepnote_cell_type": "code",
    "deepnote_cell_height": 98.60000610351562
   },
   "source": "import numpy as np, matplotlib.pyplot as plt\nfrom scipy import stats",
   "execution_count": null,
   "outputs": []
  },
  {
   "cell_type": "markdown",
   "source": "## Part I: Type A Uncertainty",
   "metadata": {
    "tags": [],
    "cell_id": "00002-c2caac71-5d0b-4e0e-9878-a98570517dd2",
    "deepnote_cell_type": "markdown",
    "deepnote_cell_height": 69.60000610351562
   }
  },
  {
   "cell_type": "code",
   "metadata": {
    "deepnote_to_be_reexecuted": false,
    "execution_millis": 2,
    "execution_start": 1647141263194,
    "source_hash": "b74e8281",
    "tags": [],
    "cell_id": "00003-4887c274-201c-478d-a322-6a2f9096e66c",
    "deepnote_cell_type": "code",
    "deepnote_cell_height": 201.39999389648438
   },
   "source": "bias = 0.01 # residual error from touching leads\nmeasurements = np.array([21.739,21.742,21.741,21.738,21.735,21.733,21.736,21.735,21.734,21.731]) # 10 measurements\nmeasurements -= bias # correct residual resistance\nN = len(measurements) # number of trials\nu1 = stats.sem(measurements) # standard error in the mean\nprint(f\"Average measurement ({N} trials): {measurements.mean():.3f} ± {u1:.3f} Ω\")",
   "execution_count": null,
   "outputs": [
    {
     "name": "stdout",
     "output_type": "stream",
     "text": "Average measurement (10 trials): 21.726 ± 0.001 Ω\n"
    }
   ]
  },
  {
   "cell_type": "markdown",
   "source": "This statistic arises from the mean of $N$ samples, so there are $N-1$ degrees of freedom. Here we have 10 samples, so 9 degrees of freedom (dof). This error is attributed to statistical randomness in the physical processes, so with enough trials, it should follow a Gaussian/normal distribution. With only $N=10$, we use a Student-$t$ distribution to model it.",
   "metadata": {
    "tags": [],
    "cell_id": "00004-dfb0d1c2-f721-4c50-ae70-1e65bf7fbff1",
    "deepnote_cell_type": "markdown",
    "deepnote_cell_height": 118.93333435058594
   }
  },
  {
   "cell_type": "markdown",
   "source": "## Part II: Type B Uncertainty\n\n### Range and reading standard uncertainty, $u_2$\n\n1) What is the range the instrument is set at to measure a 22 Ω resistance? In Appendix A, find and report the proper values for the range and reading uncertainties.\n> The range the instrument defaults to for the $22\\ \\Omega$ resistor is $100\\ \\Omega$. Therefore the uncertainty from the datasheet is $\\pm(0.05\\text{\\% of the reading} + 0.008\\text{\\% of the range})$\n\n2) In the DMM datasheet, what does the “math null enable” (footnote [3]) mean? In the future you could use it to automatically correct for the residual resistance.\n> This is essentially a toggle to tell the instrument whether or not to perform an inline bias correction based on its own measurement of the \"null\" reading.\n\n3) From this, calculate the measurement uncertainty due to these two sources at 68% confidence level.\n\n> We have $a=\\pm(0.0005\\bar{R}+0.0008\\cdot100)\\ \\Omega$ and $\\bar{R}\\cong 21.726\\ \\Omega$. Therefore $a\\approx\\pm0.0189\\ \\Omega \\implies u_3=\\frac{a}{\\sqrt{3}}=\\frac{\\pm0.0189}{\\sqrt{3}}=\\pm0.0109\\ \\Omega$.\n\n4) What is the number of degrees of freedom for this uncertainty? While for Type A uncertainties this was easy to estimate, for Type B, it is often considered as infinite, such as for specifications reported by the manufacturer.\n\n> We will assume the degrees of freedom are infinite, since no furhter information is given in the datasheet.\n\n5) What is the type of probability distribution function?\n\n> The most conservative assumption will be to treat this as a rectangular distribution, where all values within the range are equally likely.",
   "metadata": {
    "tags": [],
    "cell_id": "00005-7a54a30f-928a-436d-836d-42f1761d7da9",
    "deepnote_cell_type": "markdown",
    "deepnote_cell_height": 617.36669921875
   }
  },
  {
   "cell_type": "code",
   "metadata": {
    "deepnote_to_be_reexecuted": false,
    "execution_millis": 2,
    "execution_start": 1647141279175,
    "source_hash": "22f5cb0f",
    "tags": [],
    "cell_id": "00006-683d5e10-d743-42aa-bfbb-be169ff240a1",
    "deepnote_cell_type": "code",
    "deepnote_cell_height": 153.39999389648438,
    "deepnote_output_heights": [
     21
    ]
   },
   "source": "DMM_err = lambda R : 0.0005*R + 0.00008*100\nu2 = DMM_err(measurements.mean())/np.sqrt(3)\nu2",
   "execution_count": null,
   "outputs": [
    {
     "data": {
      "text/plain": "0.010890673597777747"
     },
     "execution_count": 3,
     "metadata": {},
     "output_type": "execute_result"
    }
   ]
  },
  {
   "cell_type": "markdown",
   "source": "### DMM resolution, $u_3$\n\n1) Measurements include errors due to limited resolution of the display panel. This is usually taken as one half of the least significant digit, LSD. Remember, however, the standard uncertainties must be expressed at $\\pm1\\sigma$, i.e. you need to know the probability distribution function of this uncertainty.\n\n2) What kind of pdf should you assume this uncertainty follow?\n> This should be a uniform (rectangular) distribution, with a width $2a$ corresponding to 100% confidence.\n\n3) Calculate the standard resolution uncertainty.\n> Our instrument has 3 digits of precision after the decimal place. Thus one-half the LSD is $\\pm0.0005\\ \\Omega$. Therefore $u_3=\\frac{\\pm0.0005}{\\sqrt{3}}\\approx\\pm0.0003\\ \\Omega$.\n\n4) What is the number of degrees of freedom for this uncertainty?\n\n> It is only dependent on one thing: the precision/number of display digits of the multimeter, which does not even depend on how many digits of precision the multimeter actually *has*—it is still 1.",
   "metadata": {
    "tags": [],
    "cell_id": "00007-d3f3bb69-a964-4d0d-abcf-14d508c4a624",
    "deepnote_cell_type": "markdown",
    "deepnote_cell_height": 396.566650390625
   }
  },
  {
   "cell_type": "code",
   "metadata": {
    "deepnote_to_be_reexecuted": false,
    "execution_millis": 2,
    "execution_start": 1647141300119,
    "source_hash": "15e4a119",
    "tags": [],
    "cell_id": "00008-75da56e3-c93a-4196-8b7a-ad64e8a7ef02",
    "deepnote_cell_type": "code",
    "deepnote_cell_height": 153.39999389648438,
    "deepnote_output_heights": [
     21
    ]
   },
   "source": "a3 = 0.0005\nu3 = a3/np.sqrt(3)\nu3",
   "execution_count": null,
   "outputs": [
    {
     "data": {
      "text/plain": "0.0002886751345948129"
     },
     "execution_count": 4,
     "metadata": {},
     "output_type": "execute_result"
    }
   ]
  },
  {
   "cell_type": "markdown",
   "source": "## Part III: Combined Standard Uncertainty",
   "metadata": {
    "tags": [],
    "cell_id": "00009-f9632e0e-ebfb-4218-a298-3c6dc06a5d3a",
    "deepnote_cell_type": "markdown",
    "deepnote_cell_height": 69.60000610351562
   }
  },
  {
   "cell_type": "markdown",
   "source": "| Source of Uncertainty |   Type   | $u_i$ | Uncertainty value (Unit) | Sensitivity coefficient ($c_i$) | Type of pdf | Standard uncertainty (unit) | Degrees of freedom ($\\nu_i$) |\n|:---------------------:|:--------:|:-----:|:------------------------:|:-------------------------------:|:-----------:|:---------------------------:|:--------------------------:|\n|     **Repeatability**     |     A    | $u_1$ | $\\pm0.001\\ \\Omega$ |1|Student-$t$|$\\pm0.001\\ \\Omega$|9|\n|   **Range and Reading**   |     B    | $u_2$ | $\\pm0.0189\\ \\Omega$ |1| Assumed uniform | $\\pm0.0109\\ \\Omega$ | $\\infty$ |\n|       **Resolution**      |     B    | $u_3$ | $\\pm0.0005\\ \\Omega$ |1|Uniform|$\\pm0.0003\\ \\Omega$| 1 |\n|  **Current Measurement**  | Combined | $u_c$ |             -            |                -                | Converges to normal | $\\pm0.011\\ \\Omega$| ~80,000 |\n\n<br>\nWelch-Satterthwaite formula: \n\n$$ \\nu_\\text{eff} = \\frac{u_c^4}{\\Sigma_{i=1}^N \\large \\frac{c_i^4 u_i^4}{\\nu_i}} $$",
   "metadata": {
    "tags": [],
    "cell_id": "00010-29006bec-443c-420c-b49a-94253143ef57",
    "deepnote_cell_type": "markdown",
    "deepnote_cell_height": 288.45001220703125
   }
  },
  {
   "cell_type": "code",
   "metadata": {
    "deepnote_to_be_reexecuted": false,
    "execution_millis": 10,
    "execution_start": 1647142513783,
    "source_hash": "b5e4c301",
    "tags": [],
    "cell_id": "00011-23e9f784-a725-4267-8b4e-713af405e9a3",
    "deepnote_cell_type": "code",
    "deepnote_cell_height": 239.39999389648438
   },
   "source": "u = np.array([u1,u2,u3]) # array of individual error contributions\nuc = np.sqrt(np.sum(u**2)) # combined standard uncertainty\nv_eff = lambda uc, ci, ui, vi : uc**4 / np.sum(ci**4 * ui**4 / vi) # Welch-Satterthwaite\nc = np.array([1,1,1])\nv = np.array([9,np.inf,1])\nprint(\"Combined uncertainty:\",uc)\nprint(\"Effective dof:\",v_eff(uc,c,u,v))",
   "execution_count": null,
   "outputs": [
    {
     "name": "stdout",
     "output_type": "stream",
     "text": "Combined uncertainty: 0.010951666249277108\nEffective dof: 79809.14047748108\n"
    }
   ]
  },
  {
   "cell_type": "markdown",
   "source": "## Part IV: Expanded Uncertainty\n\n1) In light of your effective degrees of freedom, which pdf are you planning on following to estimate you coverage factor $k$? If you had an infinite effective degrees of freedom, which pdf would you follow?\n\n> Since $\\nu_\\text{eff}$ is so high, we can proceed using a normal distribution/Gaussian PDF. This is also due to the central limit theorem, from which we know that when we combine several distinct sources of uncertainty, their aggregate PDF converges to a single normal distribution.\n\n2) What is the value of $k$?\n\n> For 95\\% confidence, $k\\approx1.96$. This makes sense because we know that $2\\sigma$ uncertainty has approximately 95.45\\% coverage, and in fact, $k=2$ is often used to approximate 95\\% confidence.\n\n3) What is your expanded uncertainty, $U_m$? Use the table you completed earlier for your overall uncertainty budget.\n\n> The combined standard uncertainty was $u_c = \\pm 0.011\\ \\Omega$. To get the expanded uncertainty at the desired confidence lebel, we multiply by the coverage factor, i.e. $U_m = k\\cdot u_c = 1.96\\cdot 0.011\\ \\Omega \\approx 0.022\\ \\Omega$.\n\n4) Finally, your work is not complete until you report the final result in the form $R=\\bar{R}\\pm U_m\\ \\Omega$.\n\n> We report $R=21.736\\pm0.022\\ \\Omega$ with 95\\% confidence ($2\\sigma$ uncertainty).",
   "metadata": {
    "tags": [],
    "cell_id": "00012-06dcb842-a574-4ede-9a39-4a86b78a5594",
    "deepnote_cell_type": "markdown",
    "deepnote_cell_height": 466.3999938964844
   }
  },
  {
   "cell_type": "markdown",
   "source": "## Discussion\n\n1. Often the repeatability uncertainty you calculated in section 1, is very small and only Type B uncertainties are adequate to characterize the overall uncertainty. Is this the case here? In case it is, why is this important to your tests?\n\n> Yes, $u_2$ dominates the final uncertainty. The implication is that the instrument is more *precise* than it necessarily is *accurate*.\n\n2. How can you estimate environment effects (i.e. change in temperature, pressure) on your instruments and subsequently on your measurements? What type of uncertainties are they?\n\n> This is possible through calibration and testing in a variety of known/controlled environmental settings. These errors would be classified as Type B, since they are not statistical, but rather the result of physical effects.\n\n3. Prove analytically that the coverage factor for the Least Significant Digit uncertainty (resolution limitation) is $\\frac{1}{\\sqrt{3}}$. You will need the following information: the actual value below the LSD is equiprobable, i.e. it follows a rectangular distribution function.\n\n> A uniform/rectangular pdf is described by $\\displaystyle p(x) = \\begin{cases} \\frac{1}{b-a} & x \\in (a,b) \\\\ 0 & \\text{otherwise}\\end{cases}$\n\n> The error on a measurement $x$ is given by $\\displaystyle E(x) = \\int_a^b x\\cdot p(x)\\ dx = \\int_a^b \\frac{x}{b-a} dx = \\frac{a+b}{2}$. Therefore, $\\displaystyle \\sigma^2 = \\int_a^b \\left(x-E(x)\\right)^2p(x)\\ dx = \\int_a^b \\left(x-\\frac{a+b}{2}\\right)^2 \\frac{1}{b-a}dx = \\frac{1}{3}\\left(\\frac{b-a}{2}\\right)^2$. Taking the square root of both sides shows that the standard error $\\sigma$ is given by the half-width of the distribution (i.e. $(b-a)/2$) divided by $\\sqrt{3}$.\n\n4. Is the DMM display resolution important compared to the other sources of uncertainties?\n    > No, it is nearly an order of magnitude smaller than the statistical error from the standard deviation of the measurements, which is itself an order of magnitude smaller than the range/reading error of the instrument. When added in quadrature, only the largest terms really matter.",
   "metadata": {
    "tags": [],
    "cell_id": "00013-a53cd67e-4129-4cb1-ac6b-b1b6c43f3d02",
    "deepnote_cell_type": "markdown",
    "deepnote_cell_height": 629.5999755859375
   }
  },
  {
   "cell_type": "code",
   "metadata": {
    "cell_id": "00014-dc6c59c2-7ce6-47bd-b5d6-2514a7d90be1",
    "deepnote_cell_type": "code",
    "deepnote_cell_height": 65.60000610351562
   },
   "source": "",
   "execution_count": null,
   "outputs": []
  },
  {
   "cell_type": "markdown",
   "source": "<a style='text-decoration:none;line-height:16px;display:flex;color:#5B5B62;padding:10px;justify-content:end;' href='https://deepnote.com?utm_source=created-in-deepnote-cell&projectId=385eace9-e066-4866-bb55-3a1ff5bdb476' target=\"_blank\">\n<img alt='Created in deepnote.com' style='display:inline;max-height:16px;margin:0px;margin-right:7.5px;' src='data:image/svg+xml;base64,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' > </img>\nCreated in <span style='font-weight:600;margin-left:4px;'>Deepnote</span></a>",
   "metadata": {
    "tags": [],
    "created_in_deepnote_cell": true,
    "deepnote_cell_type": "markdown"
   }
  }
 ],
 "nbformat": 4,
 "nbformat_minor": 2,
 "metadata": {
  "deepnote": {
   "is_reactive": false
  },
  "deepnote_execution_queue": [],
  "deepnote_notebook_id": "208c79d2-d367-4e7a-aae9-d6c279b0c79a",
  "hide_input": false,
  "kernelspec": {
   "display_name": "Python 3",
   "language": "python",
   "name": "python3"
  },
  "language_info": {
   "codemirror_mode": {
    "name": "ipython",
    "version": 3
   },
   "file_extension": ".py",
   "mimetype": "text/x-python",
   "name": "python",
   "nbconvert_exporter": "python",
   "pygments_lexer": "ipython3",
   "version": "3.8.6"
  },
  "latex_envs": {
   "LaTeX_envs_menu_present": true,
   "autoclose": true,
   "autocomplete": true,
   "bibliofile": "biblio.bib",
   "cite_by": "apalike",
   "current_citInitial": 1,
   "eqLabelWithNumbers": true,
   "eqNumInitial": 1,
   "hotkeys": {
    "equation": "Ctrl-E",
    "itemize": "Ctrl-I"
   },
   "labels_anchors": false,
   "latex_user_defs": false,
   "report_style_numbering": false,
   "user_envs_cfg": false
  },
  "toc": {
   "base_numbering": 1,
   "nav_menu": {},
   "number_sections": true,
   "sideBar": true,
   "skip_h1_title": false,
   "title_cell": "Table of Contents",
   "title_sidebar": "Contents",
   "toc_cell": false,
   "toc_position": {},
   "toc_section_display": true,
   "toc_window_display": false
  },
  "varInspector": {
   "cols": {
    "lenName": 16,
    "lenType": 16,
    "lenVar": 40
   },
   "kernels_config": {
    "python": {
     "delete_cmd_postfix": "",
     "delete_cmd_prefix": "del ",
     "library": "var_list.py",
     "varRefreshCmd": "print(var_dic_list())"
    },
    "r": {
     "delete_cmd_postfix": ") ",
     "delete_cmd_prefix": "rm(",
     "library": "var_list.r",
     "varRefreshCmd": "cat(var_dic_list()) "
    }
   },
   "types_to_exclude": [
    "module",
    "function",
    "builtin_function_or_method",
    "instance",
    "_Feature"
   ],
   "window_display": false
  }
 }
}