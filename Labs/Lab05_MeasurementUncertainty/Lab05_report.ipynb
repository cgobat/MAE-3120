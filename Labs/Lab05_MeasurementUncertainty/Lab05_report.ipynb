{
 "cells": [
  {
   "cell_type": "markdown",
   "source": "## Part I: Type A Uncertainty",
   "metadata": {
    "cell_id": "bf827691-4236-4729-b612-ed5902e5478b",
    "tags": [],
    "deepnote_cell_type": "markdown"
   }
  },
  {
   "cell_type": "code",
   "source": "import numpy as np, matplotlib.pyplot as plt\nfrom scipy import stats",
   "metadata": {
    "cell_id": "d5e448a3-4552-4d17-9f8b-decc53701d40",
    "tags": [],
    "deepnote_to_be_reexecuted": false,
    "source_hash": "b4a1e37e",
    "execution_start": 1646348901794,
    "execution_millis": 2874,
    "deepnote_cell_type": "code"
   },
   "outputs": [],
   "execution_count": null
  },
  {
   "cell_type": "code",
   "metadata": {
    "tags": [],
    "cell_id": "b473bc37-cd81-4e24-9c80-c13e99f58eac",
    "deepnote_to_be_reexecuted": false,
    "source_hash": "247045f5",
    "execution_start": 1646349767058,
    "execution_millis": 9,
    "deepnote_cell_type": "code"
   },
   "source": "resid = 0.01\nmeasurements = np.array([21.739,21.742,21.741,21.738,21.735,21.733,21.736,21.735,21.734,21.731])\nmeasurements -= resid\nN = len(measurements)\nu1 = stats.sem(measurements)\nmeasurements.mean(), u1\n",
   "outputs": [
    {
     "output_type": "execute_result",
     "execution_count": 6,
     "data": {
      "text/plain": "(21.726399999999995, 0.0011175369742825912)"
     },
     "metadata": {}
    }
   ],
   "execution_count": null
  },
  {
   "cell_type": "markdown",
   "source": "## Part II: Type B Uncertainty\n\n### Range and reading standard uncertainty, $u_2$\n\n1) What is the range the instrument is set at to measure a 22 Ω resistance? In Appendix A, find and report the proper values for the range and reading uncertainties.\n> The range the instrument defaults to for the $22\\ \\Omega$ resistor is $100\\ \\Omega$. Therefore the uncertainty from the datasheet is $\\pm(0.05\\text{\\% of the reading} + 0.008\\text{\\% of the range})$\n\n2) In the DMM datasheet, what does the “math null enable” (footnote [3]) mean? In the future you could use it to automatically correct for the residual resistance.\n\n3) From this, calculate the measurement uncertainty due to these two sources at 68% confidence level.\n> We have $a=\\pm(0.0005\\bar{R}+0.0008\\cdot100)\\ \\Omega$ and $\\bar{R}\\cong 21.726\\ \\Omega$. Therefore $a\\approx\\pm0.0189\\ \\Omega \\implies u_3=\\frac{a}{\\sqrt{3}}=\\frac{\\pm0.0189}{\\sqrt{3}}=\\pm0.0109\\ \\Omega$.\n\n4) What is the number of degrees of freedom for this uncertainty? While for Type A uncertainties this was easy to estimate, for Type B, it is often considered as infinite, such as for specifications reported by the manufacturer.\n\n5) What is the type of probability distribution function?",
   "metadata": {
    "cell_id": "72e38481-7ef8-41a5-aaa0-c4ea3f8acea1",
    "tags": [],
    "deepnote_cell_type": "markdown"
   }
  },
  {
   "cell_type": "code",
   "source": "DMM_err = lambda R : 0.0005*R + 0.00008*100\nu2 = DMM_err(np.mean(measurements))/np.sqrt(3)\nu2",
   "metadata": {
    "cell_id": "71c30211-9b91-40e7-9212-5b8295f0bf67",
    "tags": [],
    "deepnote_to_be_reexecuted": false,
    "source_hash": "bb5222a1",
    "execution_start": 1646350060360,
    "execution_millis": 6,
    "deepnote_cell_type": "code"
   },
   "outputs": [
    {
     "output_type": "execute_result",
     "execution_count": 9,
     "data": {
      "text/plain": "0.010890673597777747"
     },
     "metadata": {}
    }
   ],
   "execution_count": null
  },
  {
   "cell_type": "markdown",
   "source": "### DMM resolution, $u_3$\n\n1) Measurements include errors due to limited resolution of the display panel. This is usually taken as one half of the least significant digit, LSD. Remember, however, the standard uncertainties must be expressed at $\\pm1\\sigma$, i.e. you need to know the probability distribution function of this uncertainty.\n\n2) What kind of pdf should you assume this uncertainty follow?\n> This should be a uniform (rectangular) distribution, with a width $2a$ corresponding to 100% confidence.\n\n3) Calculate the standard resolution uncertainty.\n> Our instrument has 3 digits of precision after the decimal place. Thus one-half the LSD is $\\pm0.0005\\ \\Omega$. Therefore $u_3=\\frac{\\pm0.0005}{\\sqrt{3}}\\approx\\pm0.0003\\ \\Omega$.\n\n4) What is the number of degrees of freedom for this uncertainty?",
   "metadata": {
    "cell_id": "7660825a-9384-4f1d-b5ff-b60ab74f9919",
    "tags": [],
    "deepnote_cell_type": "markdown"
   }
  },
  {
   "cell_type": "code",
   "source": "a3 = 0.0005\nu3 = a3/np.sqrt(3)\nu3",
   "metadata": {
    "cell_id": "cf5e24c6-7106-439b-8f88-4f0d62736acc",
    "tags": [],
    "deepnote_to_be_reexecuted": false,
    "source_hash": "15e4a119",
    "execution_start": 1646350341844,
    "execution_millis": 7,
    "deepnote_cell_type": "code"
   },
   "outputs": [
    {
     "output_type": "execute_result",
     "execution_count": 11,
     "data": {
      "text/plain": "0.0002886751345948129"
     },
     "metadata": {}
    }
   ],
   "execution_count": null
  },
  {
   "cell_type": "markdown",
   "source": "## Part III: Combined Standard Uncertainty",
   "metadata": {
    "cell_id": "6acd5536-3d4f-4b8c-9d25-4e28af5e5449",
    "tags": [],
    "deepnote_cell_type": "markdown"
   }
  },
  {
   "cell_type": "markdown",
   "source": "$$ \\nu_\\text{eff} = \\frac{u_c^4}{\\Sigma_{i=1}^N \\large \\frac{c_i^4 u_i^4}{\\nu_i}} $$\n\n| Source of Uncertainty |   Type   | $u_i$ | Uncertainty value (Unit) | Sensitivity coefficient ($c_i$) | Type of pdf | Standard uncertainty (unit) | Degrees of freedom ($\\nu_i$) |\n|:---------------------:|:--------:|:-----:|:------------------------:|:-------------------------------:|:-----------:|:---------------------------:|:--------------------------:|\n|     **Repeatability**     |     A    | $u_1$ | $\\pm0.001\\ \\Omega$ |1|Student-$t$|$\\pm0.001\\ \\Omega$|9|\n|   **Range and Reading**   |     B    | $u_2$ | $\\pm0.0189\\ \\Omega$ |1| Uniform? | $\\pm0.0109\\ \\Omega$ | ? |\n|       **Resolution**      |     B    | $u_3$ | $\\pm0.0005\\ \\Omega$ |1|Uniform|$\\pm0.0003\\ \\Omega$| ? |\n|  **Current Measurement**  | Combined | $u_c$ |             -            |                -                | Maybe normal | $\\pm0.011\\ \\Omega$| 9.2 |",
   "metadata": {
    "cell_id": "7bae023b-a74e-45ae-91bb-f4cc72e13e37",
    "tags": [],
    "deepnote_cell_type": "markdown"
   }
  },
  {
   "cell_type": "code",
   "source": "uc = np.sqrt(u1**2+u2**2+u3**2)\nv_eff = lambda uc, ci, ui, vi : uc**4 / np.sum(ci**4 * ui**4 / vi)\nc = np.array([1,1,1])\nu = np.array([u1,u2,u3])\nv = np.array([9,9,1])\nv_eff(uc,c,u,v),uc",
   "metadata": {
    "cell_id": "7f76b151-b1d8-4127-9cb9-280d8004e857",
    "tags": [],
    "deepnote_to_be_reexecuted": false,
    "source_hash": "1827dcf2",
    "execution_start": 1646350357368,
    "execution_millis": 6,
    "deepnote_cell_type": "code"
   },
   "outputs": [
    {
     "output_type": "execute_result",
     "execution_count": 12,
     "data": {
      "text/plain": "(9.20225500015373, 0.010951666249277108)"
     },
     "metadata": {}
    }
   ],
   "execution_count": null
  },
  {
   "cell_type": "markdown",
   "source": "## Part IV: Expanded Uncertainty\n\n1) In light of your effective degrees of freedom, which pdf are you planning on following to estimate you coverage factor $k$? If you had an infinite effective degrees of freedom, which pdf would you follow?\n\n2) What is the value of $k$?\n\n3) What is your expanded uncertainty, $U_m$? Use the table you completed earlier for your overall uncertainty budget.\n\n4) Finally, your work is not complete until you report the final result in the form $R=\\bar{R}\\pm U_m\\ \\Omega$",
   "metadata": {
    "cell_id": "30de6952-33c5-4420-9224-c7cd7763686b",
    "tags": [],
    "deepnote_cell_type": "markdown"
   }
  },
  {
   "cell_type": "markdown",
   "source": "## Discussion\n\n1. Often the repeatability uncertainty you calculated in section 1, is very small and only Type B uncertainties are adequate to characterize the overall uncertainty. Is this the case here? In case it is, why is this important to your tests?\n    > Yes, $u_2$ dominates the final uncertainty.\n\n2. How can you estimate environment effects (i.e. change in temperature, pressure) on your instruments and subsequently on your measurements? What type of uncertainties are they?\n\n3. Prove analytically that the coverage factor for the Least Significant Digit uncertainty (resolution limitation) is $\\frac{1}{\\sqrt{3}}$. You will need the following information: the actual value below the LSD is equiprobable, i.e. it follows a rectangular distribution function.\n\n4. Is the DMM display resolution important compared to the other sources of uncertainties?",
   "metadata": {
    "cell_id": "3bdba92f-66d9-4ea7-92df-09da74bc13a6",
    "tags": [],
    "deepnote_cell_type": "markdown"
   },
   "outputs": [],
   "execution_count": null
  },
  {
   "cell_type": "markdown",
   "source": "",
   "metadata": {
    "cell_id": "af40f2de-41ca-41fe-9e81-fbe4b9820225",
    "tags": [],
    "deepnote_cell_type": "markdown"
   }
  },
  {
   "cell_type": "markdown",
   "source": "<a style='text-decoration:none;line-height:16px;display:flex;color:#5B5B62;padding:10px;justify-content:end;' href='https://deepnote.com?utm_source=created-in-deepnote-cell&projectId=385eace9-e066-4866-bb55-3a1ff5bdb476' target=\"_blank\">\n<img alt='Created in deepnote.com' style='display:inline;max-height:16px;margin:0px;margin-right:7.5px;' src='data:image/svg+xml;base64,PD94bWwgdmVyc2lvbj0iMS4wIiBlbmNvZGluZz0iVVRGLTgiPz4KPHN2ZyB3aWR0aD0iODBweCIgaGVpZ2h0PSI4MHB4IiB2aWV3Qm94PSIwIDAgODAgODAiIHZlcnNpb249IjEuMSIgeG1sbnM9Imh0dHA6Ly93d3cudzMub3JnLzIwMDAvc3ZnIiB4bWxuczp4bGluaz0iaHR0cDovL3d3dy53My5vcmcvMTk5OS94bGluayI+CiAgICA8IS0tIEdlbmVyYXRvcjogU2tldGNoIDU0LjEgKDc2NDkwKSAtIGh0dHBzOi8vc2tldGNoYXBwLmNvbSAtLT4KICAgIDx0aXRsZT5Hcm91cCAzPC90aXRsZT4KICAgIDxkZXNjPkNyZWF0ZWQgd2l0aCBTa2V0Y2guPC9kZXNjPgogICAgPGcgaWQ9IkxhbmRpbmciIHN0cm9rZT0ibm9uZSIgc3Ryb2tlLXdpZHRoPSIxIiBmaWxsPSJub25lIiBmaWxsLXJ1bGU9ImV2ZW5vZGQiPgogICAgICAgIDxnIGlkPSJBcnRib2FyZCIgdHJhbnNmb3JtPSJ0cmFuc2xhdGUoLTEyMzUuMDAwMDAwLCAtNzkuMDAwMDAwKSI+CiAgICAgICAgICAgIDxnIGlkPSJHcm91cC0zIiB0cmFuc2Zvcm09InRyYW5zbGF0ZSgxMjM1LjAwMDAwMCwgNzkuMDAwMDAwKSI+CiAgICAgICAgICAgICAgICA8cG9seWdvbiBpZD0iUGF0aC0yMCIgZmlsbD0iIzAyNjVCNCIgcG9pbnRzPSIyLjM3NjIzNzYyIDgwIDM4LjA0NzY2NjcgODAgNTcuODIxNzgyMiA3My44MDU3NTkyIDU3LjgyMTc4MjIgMzIuNzU5MjczOSAzOS4xNDAyMjc4IDMxLjY4MzE2ODMiPjwvcG9seWdvbj4KICAgICAgICAgICAgICAgIDxwYXRoIGQ9Ik0zNS4wMDc3MTgsODAgQzQyLjkwNjIwMDcsNzYuNDU0OTM1OCA0Ny41NjQ5MTY3LDcxLjU0MjI2NzEgNDguOTgzODY2LDY1LjI2MTk5MzkgQzUxLjExMjI4OTksNTUuODQxNTg0MiA0MS42NzcxNzk1LDQ5LjIxMjIyODQgMjUuNjIzOTg0Niw0OS4yMTIyMjg0IEMyNS40ODQ5Mjg5LDQ5LjEyNjg0NDggMjkuODI2MTI5Niw0My4yODM4MjQ4IDM4LjY0NzU4NjksMzEuNjgzMTY4MyBMNzIuODcxMjg3MSwzMi41NTQ0MjUgTDY1LjI4MDk3Myw2Ny42NzYzNDIxIEw1MS4xMTIyODk5LDc3LjM3NjE0NCBMMzUuMDA3NzE4LDgwIFoiIGlkPSJQYXRoLTIyIiBmaWxsPSIjMDAyODY4Ij48L3BhdGg+CiAgICAgICAgICAgICAgICA8cGF0aCBkPSJNMCwzNy43MzA0NDA1IEwyNy4xMTQ1MzcsMC4yNTcxMTE0MzYgQzYyLjM3MTUxMjMsLTEuOTkwNzE3MDEgODAsMTAuNTAwMzkyNyA4MCwzNy43MzA0NDA1IEM4MCw2NC45NjA0ODgyIDY0Ljc3NjUwMzgsNzkuMDUwMzQxNCAzNC4zMjk1MTEzLDgwIEM0Ny4wNTUzNDg5LDc3LjU2NzA4MDggNTMuNDE4MjY3Nyw3MC4zMTM2MTAzIDUzLjQxODI2NzcsNTguMjM5NTg4NSBDNTMuNDE4MjY3Nyw0MC4xMjg1NTU3IDM2LjMwMzk1NDQsMzcuNzMwNDQwNSAyNS4yMjc0MTcsMzcuNzMwNDQwNSBDMTcuODQzMDU4NiwzNy43MzA0NDA1IDkuNDMzOTE5NjYsMzcuNzMwNDQwNSAwLDM3LjczMDQ0MDUgWiIgaWQ9IlBhdGgtMTkiIGZpbGw9IiMzNzkzRUYiPjwvcGF0aD4KICAgICAgICAgICAgPC9nPgogICAgICAgIDwvZz4KICAgIDwvZz4KPC9zdmc+' > </img>\nCreated in <span style='font-weight:600;margin-left:4px;'>Deepnote</span></a>",
   "metadata": {
    "tags": [],
    "created_in_deepnote_cell": true,
    "deepnote_cell_type": "markdown"
   }
  }
 ],
 "nbformat": 4,
 "nbformat_minor": 2,
 "metadata": {
  "orig_nbformat": 2,
  "deepnote": {
   "is_reactive": false
  },
  "deepnote_notebook_id": "93b3ca85-15ca-47d5-b744-76b5c7ba97f4",
  "deepnote_execution_queue": []
 }
}